{
 "cells": [
  {
   "cell_type": "code",
   "execution_count": 94,
   "id": "ac629740",
   "metadata": {},
   "outputs": [],
   "source": [
    "import numpy as np\n",
    "import matplotlib.pyplot as plt\n",
    "import pandas as pd"
   ]
  },
  {
   "cell_type": "code",
   "execution_count": 95,
   "id": "9a02e852",
   "metadata": {},
   "outputs": [
    {
     "data": {
      "text/html": [
       "<div>\n",
       "<style scoped>\n",
       "    .dataframe tbody tr th:only-of-type {\n",
       "        vertical-align: middle;\n",
       "    }\n",
       "\n",
       "    .dataframe tbody tr th {\n",
       "        vertical-align: top;\n",
       "    }\n",
       "\n",
       "    .dataframe thead th {\n",
       "        text-align: right;\n",
       "    }\n",
       "</style>\n",
       "<table border=\"1\" class=\"dataframe\">\n",
       "  <thead>\n",
       "    <tr style=\"text-align: right;\">\n",
       "      <th></th>\n",
       "      <th>name</th>\n",
       "      <th>year</th>\n",
       "      <th>selling_price</th>\n",
       "      <th>km_driven</th>\n",
       "      <th>fuel</th>\n",
       "      <th>seller_type</th>\n",
       "      <th>transmission</th>\n",
       "      <th>owner</th>\n",
       "    </tr>\n",
       "  </thead>\n",
       "  <tbody>\n",
       "    <tr>\n",
       "      <th>0</th>\n",
       "      <td>Maruti 800 AC</td>\n",
       "      <td>2007</td>\n",
       "      <td>60000</td>\n",
       "      <td>70000</td>\n",
       "      <td>0</td>\n",
       "      <td>Individual</td>\n",
       "      <td>Manual</td>\n",
       "      <td>First Owner</td>\n",
       "    </tr>\n",
       "    <tr>\n",
       "      <th>1</th>\n",
       "      <td>Maruti Wagon R LXI Minor</td>\n",
       "      <td>2007</td>\n",
       "      <td>135000</td>\n",
       "      <td>50000</td>\n",
       "      <td>0</td>\n",
       "      <td>Individual</td>\n",
       "      <td>Manual</td>\n",
       "      <td>First Owner</td>\n",
       "    </tr>\n",
       "    <tr>\n",
       "      <th>2</th>\n",
       "      <td>Hyundai Verna 1.6 SX</td>\n",
       "      <td>2012</td>\n",
       "      <td>600000</td>\n",
       "      <td>100000</td>\n",
       "      <td>1</td>\n",
       "      <td>Individual</td>\n",
       "      <td>Manual</td>\n",
       "      <td>First Owner</td>\n",
       "    </tr>\n",
       "    <tr>\n",
       "      <th>3</th>\n",
       "      <td>Datsun RediGO T Option</td>\n",
       "      <td>2017</td>\n",
       "      <td>250000</td>\n",
       "      <td>46000</td>\n",
       "      <td>0</td>\n",
       "      <td>Individual</td>\n",
       "      <td>Manual</td>\n",
       "      <td>First Owner</td>\n",
       "    </tr>\n",
       "    <tr>\n",
       "      <th>4</th>\n",
       "      <td>Honda Amaze VX i-DTEC</td>\n",
       "      <td>2014</td>\n",
       "      <td>450000</td>\n",
       "      <td>141000</td>\n",
       "      <td>1</td>\n",
       "      <td>Individual</td>\n",
       "      <td>Manual</td>\n",
       "      <td>Second Owner</td>\n",
       "    </tr>\n",
       "    <tr>\n",
       "      <th>...</th>\n",
       "      <td>...</td>\n",
       "      <td>...</td>\n",
       "      <td>...</td>\n",
       "      <td>...</td>\n",
       "      <td>...</td>\n",
       "      <td>...</td>\n",
       "      <td>...</td>\n",
       "      <td>...</td>\n",
       "    </tr>\n",
       "    <tr>\n",
       "      <th>4335</th>\n",
       "      <td>Hyundai i20 Magna 1.4 CRDi (1)</td>\n",
       "      <td>2014</td>\n",
       "      <td>409999</td>\n",
       "      <td>80000</td>\n",
       "      <td>1</td>\n",
       "      <td>Individual</td>\n",
       "      <td>Manual</td>\n",
       "      <td>Second Owner</td>\n",
       "    </tr>\n",
       "    <tr>\n",
       "      <th>4336</th>\n",
       "      <td>Hyundai i20 Magna 1.4 CRDi</td>\n",
       "      <td>2014</td>\n",
       "      <td>409999</td>\n",
       "      <td>80000</td>\n",
       "      <td>1</td>\n",
       "      <td>Individual</td>\n",
       "      <td>Manual</td>\n",
       "      <td>Second Owner</td>\n",
       "    </tr>\n",
       "    <tr>\n",
       "      <th>4337</th>\n",
       "      <td>Maruti 800 AC BSIII</td>\n",
       "      <td>2009</td>\n",
       "      <td>110000</td>\n",
       "      <td>83000</td>\n",
       "      <td>0</td>\n",
       "      <td>Individual</td>\n",
       "      <td>Manual</td>\n",
       "      <td>Second Owner</td>\n",
       "    </tr>\n",
       "    <tr>\n",
       "      <th>4338</th>\n",
       "      <td>Hyundai Creta 1.6 CRDi SX Option</td>\n",
       "      <td>2016</td>\n",
       "      <td>865000</td>\n",
       "      <td>90000</td>\n",
       "      <td>1</td>\n",
       "      <td>Individual</td>\n",
       "      <td>Manual</td>\n",
       "      <td>First Owner</td>\n",
       "    </tr>\n",
       "    <tr>\n",
       "      <th>4339</th>\n",
       "      <td>Renault KWID RXT</td>\n",
       "      <td>2016</td>\n",
       "      <td>225000</td>\n",
       "      <td>40000</td>\n",
       "      <td>0</td>\n",
       "      <td>Individual</td>\n",
       "      <td>Manual</td>\n",
       "      <td>First Owner</td>\n",
       "    </tr>\n",
       "  </tbody>\n",
       "</table>\n",
       "<p>4340 rows × 8 columns</p>\n",
       "</div>"
      ],
      "text/plain": [
       "                                  name  year  selling_price  km_driven fuel  \\\n",
       "0                        Maruti 800 AC  2007          60000      70000    0   \n",
       "1             Maruti Wagon R LXI Minor  2007         135000      50000    0   \n",
       "2                 Hyundai Verna 1.6 SX  2012         600000     100000    1   \n",
       "3               Datsun RediGO T Option  2017         250000      46000    0   \n",
       "4                Honda Amaze VX i-DTEC  2014         450000     141000    1   \n",
       "...                                ...   ...            ...        ...  ...   \n",
       "4335    Hyundai i20 Magna 1.4 CRDi (1)  2014         409999      80000    1   \n",
       "4336        Hyundai i20 Magna 1.4 CRDi  2014         409999      80000    1   \n",
       "4337               Maruti 800 AC BSIII  2009         110000      83000    0   \n",
       "4338  Hyundai Creta 1.6 CRDi SX Option  2016         865000      90000    1   \n",
       "4339                  Renault KWID RXT  2016         225000      40000    0   \n",
       "\n",
       "     seller_type transmission         owner  \n",
       "0     Individual       Manual   First Owner  \n",
       "1     Individual       Manual   First Owner  \n",
       "2     Individual       Manual   First Owner  \n",
       "3     Individual       Manual   First Owner  \n",
       "4     Individual       Manual  Second Owner  \n",
       "...          ...          ...           ...  \n",
       "4335  Individual       Manual  Second Owner  \n",
       "4336  Individual       Manual  Second Owner  \n",
       "4337  Individual       Manual  Second Owner  \n",
       "4338  Individual       Manual   First Owner  \n",
       "4339  Individual       Manual   First Owner  \n",
       "\n",
       "[4340 rows x 8 columns]"
      ]
     },
     "execution_count": 95,
     "metadata": {},
     "output_type": "execute_result"
    }
   ],
   "source": [
    "data=pd.read_csv(r\"C:\\Users\\Karthikeyan C\\Downloads\\CAR DETAILS FROM CAR DEKHO.csv\")\n",
    "data"
   ]
  },
  {
   "cell_type": "code",
   "execution_count": 96,
   "id": "8325f8cf",
   "metadata": {},
   "outputs": [],
   "source": [
    "dataset=data.head(2500)"
   ]
  },
  {
   "cell_type": "code",
   "execution_count": 97,
   "id": "d58a5002",
   "metadata": {},
   "outputs": [
    {
     "data": {
      "text/plain": [
       "(2500, 2)"
      ]
     },
     "execution_count": 97,
     "metadata": {},
     "output_type": "execute_result"
    }
   ],
   "source": [
    "X=dataset.iloc[:,[2,3]].values\n",
    "X.shape"
   ]
  },
  {
   "cell_type": "code",
   "execution_count": 98,
   "id": "28766866",
   "metadata": {},
   "outputs": [
    {
     "data": {
      "text/plain": [
       "array(['0', '0', '1', ..., '0', '1', '1'], dtype=object)"
      ]
     },
     "execution_count": 98,
     "metadata": {},
     "output_type": "execute_result"
    }
   ],
   "source": [
    "y=dataset.fuel.values\n",
    "y\n"
   ]
  },
  {
   "cell_type": "code",
   "execution_count": 99,
   "id": "90677cce",
   "metadata": {},
   "outputs": [],
   "source": [
    "from sklearn.model_selection import train_test_split\n",
    "X_train,X_test,y_train,y_test=train_test_split(X,y,test_size=0.2,random_state=1)"
   ]
  },
  {
   "cell_type": "code",
   "execution_count": 100,
   "id": "6f98407c",
   "metadata": {},
   "outputs": [],
   "source": [
    "from sklearn.preprocessing import StandardScaler\n",
    "ss=StandardScaler()\n",
    "X_train=ss.fit_transform(X_train)\n",
    "X_test=ss.transform(X_test)"
   ]
  },
  {
   "cell_type": "code",
   "execution_count": 101,
   "id": "9fae136b",
   "metadata": {},
   "outputs": [
    {
     "data": {
      "text/plain": [
       "RandomForestClassifier(n_estimators=10, random_state=0)"
      ]
     },
     "execution_count": 101,
     "metadata": {},
     "output_type": "execute_result"
    }
   ],
   "source": [
    "from sklearn.ensemble import RandomForestClassifier\n",
    "clfr1=RandomForestClassifier(n_estimators=10,criterion='gini',random_state=0)\n",
    "clfr1.fit(X_train,y_train)"
   ]
  },
  {
   "cell_type": "code",
   "execution_count": 102,
   "id": "6239ff36",
   "metadata": {},
   "outputs": [],
   "source": [
    "from sklearn.metrics import confusion_matrix,classification_report,accuracy_score\n",
    "\n",
    "ypre=clfr1.predict(X_test)# entropy ypre calculation\n",
    "\n",
    "ypre1=clfr1.predict(X_test)# gini ypre calculation\n"
   ]
  },
  {
   "cell_type": "code",
   "execution_count": 103,
   "id": "3caa7d21",
   "metadata": {},
   "outputs": [
    {
     "name": "stdout",
     "output_type": "stream",
     "text": [
      "entropy Accuracy Score:\n"
     ]
    },
    {
     "data": {
      "text/plain": [
       "78.8"
      ]
     },
     "execution_count": 103,
     "metadata": {},
     "output_type": "execute_result"
    }
   ],
   "source": [
    "print('entropy Accuracy Score:')\n",
    "accuracy_score(y_test,ypre)*100\n"
   ]
  },
  {
   "cell_type": "code",
   "execution_count": 104,
   "id": "8b5fc967",
   "metadata": {},
   "outputs": [
    {
     "name": "stdout",
     "output_type": "stream",
     "text": [
      "entropy Accuracy Score:\n"
     ]
    },
    {
     "data": {
      "text/plain": [
       "78.8"
      ]
     },
     "execution_count": 104,
     "metadata": {},
     "output_type": "execute_result"
    }
   ],
   "source": [
    "print('entropy Accuracy Score:')\n",
    "accuracy_score(y_test,ypre)*100\n"
   ]
  },
  {
   "cell_type": "code",
   "execution_count": 105,
   "id": "544088f5",
   "metadata": {},
   "outputs": [
    {
     "name": "stdout",
     "output_type": "stream",
     "text": [
      "entropy - confusion matrix\n",
      "--------------------\n",
      "\n",
      "[[183  50   1   1]\n",
      " [ 43 210   0   4]\n",
      " [  2   1   0   0]\n",
      " [  4   0   0   1]]\n",
      "gini - confusion matrix\n",
      "--------------------\n",
      "\n",
      "[[183  50   1   1]\n",
      " [ 43 210   0   4]\n",
      " [  2   1   0   0]\n",
      " [  4   0   0   1]]\n"
     ]
    }
   ],
   "source": [
    "print('entropy - confusion matrix\\n--------------------\\n')\n",
    "print(confusion_matrix(y_test,ypre))\n",
    "print('gini - confusion matrix\\n--------------------\\n')\n",
    "print(confusion_matrix(y_test,ypre1))"
   ]
  },
  {
   "cell_type": "code",
   "execution_count": 106,
   "id": "424bed94",
   "metadata": {},
   "outputs": [
    {
     "name": "stdout",
     "output_type": "stream",
     "text": [
      "entropy result\n",
      "--------------\n",
      "              precision    recall  f1-score   support\n",
      "\n",
      "           0       0.79      0.78      0.78       235\n",
      "           1       0.80      0.82      0.81       257\n",
      "           2       0.00      0.00      0.00         3\n",
      "           3       0.17      0.20      0.18         5\n",
      "\n",
      "    accuracy                           0.79       500\n",
      "   macro avg       0.44      0.45      0.44       500\n",
      "weighted avg       0.79      0.79      0.79       500\n",
      "\n",
      "gini index result\n",
      "----------------------\n",
      "              precision    recall  f1-score   support\n",
      "\n",
      "           0       0.79      0.78      0.78       235\n",
      "           1       0.80      0.82      0.81       257\n",
      "           2       0.00      0.00      0.00         3\n",
      "           3       0.17      0.20      0.18         5\n",
      "\n",
      "    accuracy                           0.79       500\n",
      "   macro avg       0.44      0.45      0.44       500\n",
      "weighted avg       0.79      0.79      0.79       500\n",
      "\n"
     ]
    }
   ],
   "source": [
    "print('entropy result\\n--------------')\n",
    "print(classification_report(y_test,ypre))\n",
    "print('gini index result\\n----------------------')\n",
    "print(classification_report(y_test,ypre1))"
   ]
  },
  {
   "cell_type": "code",
   "execution_count": null,
   "id": "9052514c",
   "metadata": {},
   "outputs": [],
   "source": []
  }
 ],
 "metadata": {
  "kernelspec": {
   "display_name": "Python 3 (ipykernel)",
   "language": "python",
   "name": "python3"
  },
  "language_info": {
   "codemirror_mode": {
    "name": "ipython",
    "version": 3
   },
   "file_extension": ".py",
   "mimetype": "text/x-python",
   "name": "python",
   "nbconvert_exporter": "python",
   "pygments_lexer": "ipython3",
   "version": "3.9.12"
  }
 },
 "nbformat": 4,
 "nbformat_minor": 5
}
